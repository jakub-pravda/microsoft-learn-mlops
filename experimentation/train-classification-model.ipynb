{
 "cells": [
  {
   "cell_type": "markdown",
   "metadata": {},
   "source": [
    "# Train diabetes classification model\n",
    "\n",
    "This notebook reads a CSV file and trains a model to predict diabetes in patients. The data is already preprocessed and requires no feature engineering.\n",
    "\n",
    "The evaluation methods were used during experimentation to decide whether the model was accurate enough. Moving forward, there's a preference to use the autolog feature of MLflow to more easily deploy the model later on."
   ]
  },
  {
   "cell_type": "markdown",
   "metadata": {},
   "source": [
    "## Read data from local file\n",
    "\n"
   ]
  },
  {
   "cell_type": "code",
   "execution_count": 1,
   "metadata": {
    "tags": []
   },
   "outputs": [],
   "source": [
    "import pandas as pd"
   ]
  },
  {
   "cell_type": "code",
   "execution_count": 2,
   "metadata": {
    "tags": []
   },
   "outputs": [],
   "source": [
    "df = pd.read_csv('data/diabetes-dev.csv')"
   ]
  },
  {
   "cell_type": "code",
   "execution_count": 3,
   "metadata": {
    "tags": []
   },
   "outputs": [
    {
     "data": {
      "text/html": [
       "<div>\n",
       "<style scoped>\n",
       "    .dataframe tbody tr th:only-of-type {\n",
       "        vertical-align: middle;\n",
       "    }\n",
       "\n",
       "    .dataframe tbody tr th {\n",
       "        vertical-align: top;\n",
       "    }\n",
       "\n",
       "    .dataframe thead th {\n",
       "        text-align: right;\n",
       "    }\n",
       "</style>\n",
       "<table border=\"1\" class=\"dataframe\">\n",
       "  <thead>\n",
       "    <tr style=\"text-align: right;\">\n",
       "      <th></th>\n",
       "      <th>PatientID</th>\n",
       "      <th>Pregnancies</th>\n",
       "      <th>PlasmaGlucose</th>\n",
       "      <th>DiastolicBloodPressure</th>\n",
       "      <th>TricepsThickness</th>\n",
       "      <th>SerumInsulin</th>\n",
       "      <th>BMI</th>\n",
       "      <th>DiabetesPedigree</th>\n",
       "      <th>Age</th>\n",
       "      <th>Diabetic</th>\n",
       "    </tr>\n",
       "  </thead>\n",
       "  <tbody>\n",
       "    <tr>\n",
       "      <th>0</th>\n",
       "      <td>1142956</td>\n",
       "      <td>1</td>\n",
       "      <td>78</td>\n",
       "      <td>41</td>\n",
       "      <td>33</td>\n",
       "      <td>311</td>\n",
       "      <td>50.796392</td>\n",
       "      <td>0.420804</td>\n",
       "      <td>24</td>\n",
       "      <td>0</td>\n",
       "    </tr>\n",
       "    <tr>\n",
       "      <th>1</th>\n",
       "      <td>1823377</td>\n",
       "      <td>0</td>\n",
       "      <td>116</td>\n",
       "      <td>92</td>\n",
       "      <td>16</td>\n",
       "      <td>184</td>\n",
       "      <td>18.603630</td>\n",
       "      <td>0.131156</td>\n",
       "      <td>22</td>\n",
       "      <td>0</td>\n",
       "    </tr>\n",
       "    <tr>\n",
       "      <th>2</th>\n",
       "      <td>1916381</td>\n",
       "      <td>8</td>\n",
       "      <td>171</td>\n",
       "      <td>42</td>\n",
       "      <td>29</td>\n",
       "      <td>160</td>\n",
       "      <td>35.482247</td>\n",
       "      <td>0.082671</td>\n",
       "      <td>22</td>\n",
       "      <td>1</td>\n",
       "    </tr>\n",
       "    <tr>\n",
       "      <th>3</th>\n",
       "      <td>1247480</td>\n",
       "      <td>3</td>\n",
       "      <td>108</td>\n",
       "      <td>63</td>\n",
       "      <td>45</td>\n",
       "      <td>297</td>\n",
       "      <td>49.375169</td>\n",
       "      <td>0.100979</td>\n",
       "      <td>46</td>\n",
       "      <td>1</td>\n",
       "    </tr>\n",
       "    <tr>\n",
       "      <th>4</th>\n",
       "      <td>1516947</td>\n",
       "      <td>8</td>\n",
       "      <td>153</td>\n",
       "      <td>99</td>\n",
       "      <td>15</td>\n",
       "      <td>41</td>\n",
       "      <td>35.062139</td>\n",
       "      <td>0.116191</td>\n",
       "      <td>22</td>\n",
       "      <td>1</td>\n",
       "    </tr>\n",
       "    <tr>\n",
       "      <th>...</th>\n",
       "      <td>...</td>\n",
       "      <td>...</td>\n",
       "      <td>...</td>\n",
       "      <td>...</td>\n",
       "      <td>...</td>\n",
       "      <td>...</td>\n",
       "      <td>...</td>\n",
       "      <td>...</td>\n",
       "      <td>...</td>\n",
       "      <td>...</td>\n",
       "    </tr>\n",
       "    <tr>\n",
       "      <th>4995</th>\n",
       "      <td>1490300</td>\n",
       "      <td>10</td>\n",
       "      <td>65</td>\n",
       "      <td>60</td>\n",
       "      <td>46</td>\n",
       "      <td>177</td>\n",
       "      <td>33.512468</td>\n",
       "      <td>0.148327</td>\n",
       "      <td>41</td>\n",
       "      <td>1</td>\n",
       "    </tr>\n",
       "    <tr>\n",
       "      <th>4996</th>\n",
       "      <td>1744410</td>\n",
       "      <td>2</td>\n",
       "      <td>73</td>\n",
       "      <td>66</td>\n",
       "      <td>27</td>\n",
       "      <td>168</td>\n",
       "      <td>30.132636</td>\n",
       "      <td>0.862252</td>\n",
       "      <td>38</td>\n",
       "      <td>1</td>\n",
       "    </tr>\n",
       "    <tr>\n",
       "      <th>4997</th>\n",
       "      <td>1742742</td>\n",
       "      <td>0</td>\n",
       "      <td>93</td>\n",
       "      <td>89</td>\n",
       "      <td>43</td>\n",
       "      <td>57</td>\n",
       "      <td>18.690683</td>\n",
       "      <td>0.427049</td>\n",
       "      <td>24</td>\n",
       "      <td>0</td>\n",
       "    </tr>\n",
       "    <tr>\n",
       "      <th>4998</th>\n",
       "      <td>1099353</td>\n",
       "      <td>0</td>\n",
       "      <td>132</td>\n",
       "      <td>98</td>\n",
       "      <td>18</td>\n",
       "      <td>161</td>\n",
       "      <td>19.791645</td>\n",
       "      <td>0.302257</td>\n",
       "      <td>23</td>\n",
       "      <td>0</td>\n",
       "    </tr>\n",
       "    <tr>\n",
       "      <th>4999</th>\n",
       "      <td>1386396</td>\n",
       "      <td>3</td>\n",
       "      <td>114</td>\n",
       "      <td>65</td>\n",
       "      <td>47</td>\n",
       "      <td>512</td>\n",
       "      <td>36.215437</td>\n",
       "      <td>0.147363</td>\n",
       "      <td>34</td>\n",
       "      <td>1</td>\n",
       "    </tr>\n",
       "  </tbody>\n",
       "</table>\n",
       "<p>5000 rows × 10 columns</p>\n",
       "</div>"
      ],
      "text/plain": [
       "      PatientID  Pregnancies  PlasmaGlucose  DiastolicBloodPressure  \\\n",
       "0       1142956            1             78                      41   \n",
       "1       1823377            0            116                      92   \n",
       "2       1916381            8            171                      42   \n",
       "3       1247480            3            108                      63   \n",
       "4       1516947            8            153                      99   \n",
       "...         ...          ...            ...                     ...   \n",
       "4995    1490300           10             65                      60   \n",
       "4996    1744410            2             73                      66   \n",
       "4997    1742742            0             93                      89   \n",
       "4998    1099353            0            132                      98   \n",
       "4999    1386396            3            114                      65   \n",
       "\n",
       "      TricepsThickness  SerumInsulin        BMI  DiabetesPedigree  Age  \\\n",
       "0                   33           311  50.796392          0.420804   24   \n",
       "1                   16           184  18.603630          0.131156   22   \n",
       "2                   29           160  35.482247          0.082671   22   \n",
       "3                   45           297  49.375169          0.100979   46   \n",
       "4                   15            41  35.062139          0.116191   22   \n",
       "...                ...           ...        ...               ...  ...   \n",
       "4995                46           177  33.512468          0.148327   41   \n",
       "4996                27           168  30.132636          0.862252   38   \n",
       "4997                43            57  18.690683          0.427049   24   \n",
       "4998                18           161  19.791645          0.302257   23   \n",
       "4999                47           512  36.215437          0.147363   34   \n",
       "\n",
       "      Diabetic  \n",
       "0            0  \n",
       "1            0  \n",
       "2            1  \n",
       "3            1  \n",
       "4            1  \n",
       "...        ...  \n",
       "4995         1  \n",
       "4996         1  \n",
       "4997         0  \n",
       "4998         0  \n",
       "4999         1  \n",
       "\n",
       "[5000 rows x 10 columns]"
      ]
     },
     "execution_count": 3,
     "metadata": {},
     "output_type": "execute_result"
    }
   ],
   "source": [
    "df"
   ]
  },
  {
   "cell_type": "markdown",
   "metadata": {},
   "source": [
    "## Split data"
   ]
  },
  {
   "cell_type": "code",
   "execution_count": null,
   "metadata": {
    "tags": []
   },
   "outputs": [],
   "source": [
    "X, y = df[['Pregnancies','PlasmaGlucose','DiastolicBloodPressure','TricepsThickness','SerumInsulin','BMI','DiabetesPedigree','Age']].values, df['Diabetic'].values"
   ]
  },
  {
   "cell_type": "code",
   "execution_count": null,
   "metadata": {
    "tags": []
   },
   "outputs": [
    {
     "data": {
      "text/plain": [
       "array([[1.00000000e+00, 7.80000000e+01, 4.10000000e+01, ...,\n",
       "        5.07963915e+01, 4.20803683e-01, 2.40000000e+01],\n",
       "       [0.00000000e+00, 1.16000000e+02, 9.20000000e+01, ...,\n",
       "        1.86036297e+01, 1.31156495e-01, 2.20000000e+01],\n",
       "       [8.00000000e+00, 1.71000000e+02, 4.20000000e+01, ...,\n",
       "        3.54822469e+01, 8.26710830e-02, 2.20000000e+01],\n",
       "       ...,\n",
       "       [0.00000000e+00, 9.30000000e+01, 8.90000000e+01, ...,\n",
       "        1.86906831e+01, 4.27048955e-01, 2.40000000e+01],\n",
       "       [0.00000000e+00, 1.32000000e+02, 9.80000000e+01, ...,\n",
       "        1.97916451e+01, 3.02257208e-01, 2.30000000e+01],\n",
       "       [3.00000000e+00, 1.14000000e+02, 6.50000000e+01, ...,\n",
       "        3.62154365e+01, 1.47362850e-01, 3.40000000e+01]])"
      ]
     },
     "execution_count": 6,
     "metadata": {},
     "output_type": "execute_result"
    }
   ],
   "source": [
    "len(X)"
   ]
  },
  {
   "cell_type": "code",
   "execution_count": 6,
   "metadata": {
    "tags": []
   },
   "outputs": [],
   "source": [
    "import numpy as np"
   ]
  },
  {
   "cell_type": "code",
   "execution_count": 7,
   "metadata": {
    "tags": []
   },
   "outputs": [
    {
     "name": "stdout",
     "output_type": "stream",
     "text": [
      "(array([0, 1]), array([3344, 1656]))\n"
     ]
    }
   ],
   "source": [
    "print(np.unique(y, return_counts=True))"
   ]
  },
  {
   "cell_type": "code",
   "execution_count": 8,
   "metadata": {
    "tags": []
   },
   "outputs": [],
   "source": [
    "from sklearn.model_selection import train_test_split"
   ]
  },
  {
   "cell_type": "code",
   "execution_count": 9,
   "metadata": {
    "tags": []
   },
   "outputs": [],
   "source": [
    "X_train, X_test, y_train, y_test = train_test_split(X, y, test_size=0.30, random_state=0)"
   ]
  },
  {
   "cell_type": "markdown",
   "metadata": {},
   "source": [
    "## Train model"
   ]
  },
  {
   "cell_type": "code",
   "execution_count": 10,
   "metadata": {
    "tags": []
   },
   "outputs": [],
   "source": [
    "from sklearn.linear_model import LogisticRegression"
   ]
  },
  {
   "cell_type": "code",
   "execution_count": 11,
   "metadata": {
    "tags": []
   },
   "outputs": [],
   "source": [
    "model = LogisticRegression(C=1/0.1, solver=\"liblinear\").fit(X_train, y_train)"
   ]
  },
  {
   "cell_type": "markdown",
   "metadata": {},
   "source": [
    "## Evaluate model"
   ]
  },
  {
   "cell_type": "code",
   "execution_count": 12,
   "metadata": {
    "tags": []
   },
   "outputs": [],
   "source": [
    "import numpy as np"
   ]
  },
  {
   "cell_type": "code",
   "execution_count": 13,
   "metadata": {
    "tags": []
   },
   "outputs": [],
   "source": [
    "y_hat = model.predict(X_test)\n",
    "acc = np.average(y_hat == y_test)"
   ]
  },
  {
   "cell_type": "code",
   "execution_count": 14,
   "metadata": {
    "tags": []
   },
   "outputs": [
    {
     "data": {
      "text/plain": [
       "0.7906666666666666"
      ]
     },
     "execution_count": 14,
     "metadata": {},
     "output_type": "execute_result"
    }
   ],
   "source": [
    "acc"
   ]
  },
  {
   "cell_type": "code",
   "execution_count": 15,
   "metadata": {
    "tags": []
   },
   "outputs": [],
   "source": [
    "from sklearn.metrics import roc_auc_score"
   ]
  },
  {
   "cell_type": "code",
   "execution_count": 16,
   "metadata": {
    "tags": []
   },
   "outputs": [],
   "source": [
    "y_scores = model.predict_proba(X_test)\n",
    "auc = roc_auc_score(y_test,y_scores[:,1])"
   ]
  },
  {
   "cell_type": "code",
   "execution_count": 17,
   "metadata": {
    "tags": []
   },
   "outputs": [
    {
     "data": {
      "text/plain": [
       "0.8535478806907377"
      ]
     },
     "execution_count": 17,
     "metadata": {},
     "output_type": "execute_result"
    }
   ],
   "source": [
    "auc"
   ]
  },
  {
   "cell_type": "code",
   "execution_count": 18,
   "metadata": {
    "tags": []
   },
   "outputs": [],
   "source": [
    "\n",
    "from sklearn.metrics import roc_curve\n",
    "import matplotlib.pyplot as plt"
   ]
  },
  {
   "cell_type": "code",
   "execution_count": 19,
   "metadata": {
    "tags": []
   },
   "outputs": [
    {
     "data": {
      "text/plain": [
       "Text(0.5, 1.0, 'ROC Curve')"
      ]
     },
     "execution_count": 19,
     "metadata": {},
     "output_type": "execute_result"
    },
    {
     "data": {
      "image/png": "[encoded data removed]",
      "text/plain": [
       "<Figure size 600x400 with 1 Axes>"
      ]
     },
     "metadata": {},
     "output_type": "display_data"
    }
   ],
   "source": [
    "# plot ROC curve\n",
    "fpr, tpr, thresholds = roc_curve(y_test, y_scores[:,1])\n",
    "fig = plt.figure(figsize=(6, 4))\n",
    "# Plot the diagonal 50% line\n",
    "plt.plot([0, 1], [0, 1], 'k--')\n",
    "# Plot the FPR and TPR achieved by our model\n",
    "plt.plot(fpr, tpr)\n",
    "plt.xlabel('False Positive Rate')\n",
    "plt.ylabel('True Positive Rate')\n",
    "plt.title('ROC Curve')"
   ]
  },
  {
   "cell_type": "code",
   "execution_count": null,
   "metadata": {},
   "outputs": [],
   "source": []
  }
 ],
 "metadata": {
  "interpreter": {
   "hash": "f2b2cd046deda8eabef1e765a11d0ec9aa9bd1d31d56ce79c815a38c323e14ec"
  },
  "kernel_info": {
   "name": "python38-azureml"
  },
  "kernelspec": {
   "display_name": "python-experiments kernel",
   "language": "python",
   "name": "python-experiments"
  },
  "language_info": {
   "codemirror_mode": {
    "name": "ipython",
    "version": 3
   },
   "file_extension": ".py",
   "mimetype": "text/x-python",
   "name": "python",
   "nbconvert_exporter": "python",
   "pygments_lexer": "ipython3",
   "version": "3.10.9"
  },
  "nteract": {
   "version": "nteract-front-end@1.0.0"
  }
 },
 "nbformat": 4,
 "nbformat_minor": 4
}
